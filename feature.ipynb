{
 "cells": [
  {
   "cell_type": "code",
   "execution_count": 1,
   "metadata": {},
   "outputs": [
    {
     "name": "stderr",
     "output_type": "stream",
     "text": [
      "D:\\Program\\Anaconda3\\lib\\site-packages\\pandas\\compat\\_optional.py:138: UserWarning: Pandas requires version '2.7.0' or newer of 'numexpr' (version '2.6.8' currently installed).\n",
      "  warnings.warn(msg, UserWarning)\n"
     ]
    }
   ],
   "source": [
    "from molmap.feature import  descriptor\n",
    "from molmap.feature import  fingerprint\n",
    "import pandas as pd                             #导入模块\n",
    "import numpy as np"
   ]
  },
  {
   "cell_type": "code",
   "execution_count": null,
   "metadata": {},
   "outputs": [],
   "source": [
    "df=pd.read_csv('cb1_chembl_train.CSV')      #读取文件\n",
    "df['smiles']"
   ]
  },
  {
   "cell_type": "code",
   "execution_count": null,
   "metadata": {},
   "outputs": [],
   "source": [
    "smiles_list= df['smiles'][:9832]         #后面一个为切片\n",
    "extractor=fingerprint.Extraction(feature_dict ={'MACCSFP':{}})     #计算fingerprint\n",
    "x=extractor.batch_transform(smiles_list=smiles_list, n_jobs = 3)"
   ]
  },
  {
   "cell_type": "code",
   "execution_count": null,
   "metadata": {},
   "outputs": [],
   "source": [
    "np.savetxt('cb1_chembl_train_MACCSFP.csv',x,fmt='%d',delimiter=',')   #将计算结果保存"
   ]
  },
  {
   "cell_type": "markdown",
   "metadata": {},
   "source": [
    "{'MorganFP': <function molmap.feature.fingerprint.morganfp.GetMorganFPs(mol, nBits=2048, radius=2, return_bitInfo=False)>,\n",
    " 'RDkitFP': <function molmap.feature.fingerprint.rdkitfp.GetRDkitFPs(mol, nBits=2048, return_bitInfo=False)>,\n",
    " 'AtomPairFP': <function molmap.feature.fingerprint.atompairs.GetAtomPairFPs(mol, nBits=2048, binary=True)>,\n",
    " 'TorsionFP': <function molmap.feature.fingerprint.torsions.GetTorsionFPs(mol, nBits=2048, binary=True)>,\n",
    " 'AvalonFP': <function molmap.feature.fingerprint.avalonfp.GetAvalonFPs(mol, nBits=2048)>,\n",
    " 'EstateFP': <function molmap.feature.fingerprint.estatefp.GetEstateFPs(mol)>,\n",
    " 'MACCSFP': <function molmap.feature.fingerprint.maccskeys.GetMACCSFPs(mol)>,\n",
    " 'PharmacoErGFP': <function molmap.feature.fingerprint.pharmErGfp.GetPharmacoErGFPs(mol, fuzzIncrement=0.3, maxPath=21, binary=True, return_bitInfo=False)>,\n",
    " 'PharmacoPFP': <function molmap.feature.fingerprint.pharmPointfp.GetPharmacoPFPs(mol, bins=[(0, 1), (1, 2), (2, 3), (3, 4), (4, 5), (5, 6), (6, 7), (7, 8), (8, 9), (9, 10), (10, 11), (11, 12), (12, 13), (13, 14), (14, 15), (15, 16), (16, 17), (17, 18), (18, 19), (19, 20)], minPointCount=2, maxPointCount=2, return_bitInfo=False)>,\n",
    " 'PubChemFP': <function molmap.feature.fingerprint.pubchemfp.GetPubChemFPs(mol)>,\n",
    " 'MHFP6': <function molmap.feature.fingerprint.mhfp6.GetMHFP6(mol, nBits=2048, radius=3)>,\n",
    " 'MAP4': <function molmap.feature.fingerprint.map4.GetMAP4(mol, nBits=2048, radius=2, fold_dimensions=None)>}\n",
    "#可以计算这些指纹\n"
   ]
  },
  {
   "attachments": {
    "image.png": {
     "image/png": "[encoded data removed]"
    }
   },
   "cell_type": "markdown",
   "metadata": {},
   "source": [
    "MOE, Property, Constitution, Autocorr, Fragment, Charge, Estate, Connectivity, Topology, Kappa, Path, \n",
    "Matrix, InfoContent\n",
    "![image.png](attachment:image.png)"
   ]
  },
  {
   "cell_type": "code",
   "execution_count": null,
   "metadata": {},
   "outputs": [],
   "source": []
  },
  {
   "cell_type": "code",
   "execution_count": null,
   "metadata": {},
   "outputs": [],
   "source": []
  },
  {
   "cell_type": "code",
   "execution_count": null,
   "metadata": {},
   "outputs": [],
   "source": []
  }
 ],
 "metadata": {
  "kernelspec": {
   "display_name": "Python 3",
   "language": "python",
   "name": "python3"
  },
  "language_info": {
   "codemirror_mode": {
    "name": "ipython",
    "version": 3
   },
   "file_extension": ".py",
   "mimetype": "text/x-python",
   "name": "python",
   "nbconvert_exporter": "python",
   "pygments_lexer": "ipython3",
   "version": "3.7.1"
  }
 },
 "nbformat": 4,
 "nbformat_minor": 2
}
